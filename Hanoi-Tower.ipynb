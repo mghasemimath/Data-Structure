{
 "cells": [
  {
   "cell_type": "markdown",
   "id": "02e5bc03-0bab-4ec7-bac0-39c19f3fd1f0",
   "metadata": {},
   "source": [
    "# Solving Hanoi Tower problem\n"
   ]
  },
  {
   "cell_type": "code",
   "execution_count": 7,
   "id": "2bb0f40c-f3ad-4d4a-b9be-4c5161607f7d",
   "metadata": {},
   "outputs": [
    {
     "name": "stdin",
     "output_type": "stream",
     "text": [
      "Enter number of disks:  3\n"
     ]
    },
    {
     "name": "stdout",
     "output_type": "stream",
     "text": [
      "\n",
      "The result is:  \n",
      "a -> c\n",
      "a -> b\n",
      "c -> b\n",
      "a -> c\n",
      "b -> a\n",
      "b -> c\n",
      "a -> c\n"
     ]
    }
   ],
   "source": [
    "Number_of_disks = int(input(\"Enter number of disks: \"))\n",
    "print(\"\\nThe result is:  \")\n",
    "\n",
    "def hanoi(disk , start, temp, finish):\n",
    "    if disk == 1:\n",
    "        print( start + \" -> \" + finish)\n",
    "    else:\n",
    "        hanoi(disk-1, start, finish, temp)\n",
    "        print( start + \" -> \" + finish)\n",
    "        hanoi(disk-1, temp, start, finish)\n",
    "\n",
    "hanoi(Number_of_disks, \"a\", \"b\", \"c\")"
   ]
  },
  {
   "cell_type": "code",
   "execution_count": null,
   "id": "33875f90-f3ab-4080-b0b0-6cefbc26860b",
   "metadata": {},
   "outputs": [],
   "source": []
  }
 ],
 "metadata": {
  "kernelspec": {
   "display_name": "Python 3 (ipykernel)",
   "language": "python",
   "name": "python3"
  },
  "language_info": {
   "codemirror_mode": {
    "name": "ipython",
    "version": 3
   },
   "file_extension": ".py",
   "mimetype": "text/x-python",
   "name": "python",
   "nbconvert_exporter": "python",
   "pygments_lexer": "ipython3",
   "version": "3.10.11"
  }
 },
 "nbformat": 4,
 "nbformat_minor": 5
}
