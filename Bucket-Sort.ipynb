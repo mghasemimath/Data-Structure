{
 "cells": [
  {
   "cell_type": "code",
   "execution_count": 3,
   "id": "69072c7e-826b-4d5a-8197-5d210a77cd12",
   "metadata": {},
   "outputs": [
    {
     "name": "stdout",
     "output_type": "stream",
     "text": [
      "Unsorted Buckets: [[9, 3], [], [29, 25, 21], [37], [49, 43]]\n",
      "Sorted Buckets:  [[3, 9], [], [21, 25, 29], [37], [43, 49]]\n"
     ]
    },
    {
     "data": {
      "text/plain": [
       "[3, 9, 21, 25, 29, 37, 43, 49]"
      ]
     },
     "execution_count": 3,
     "metadata": {},
     "output_type": "execute_result"
    }
   ],
   "source": [
    "#Selection Sort \n",
    "def Selection_sort(A):\n",
    "    n = len(A)\n",
    "    for i in range(n-1):\n",
    "        index = i           \n",
    "        for j in range(i+1, n):      \n",
    "            if A[index] > A[j]:  \n",
    "                index = j\n",
    "        A[i], A[index] = A[index], A[i]\n",
    "    return A\n",
    "############################\n",
    "\n",
    "def Bucket_sort(array):\n",
    "    def build_buckets(n):\n",
    "        return n // 10\n",
    "    max_range = max(array)\n",
    "    num_buckets = build_buckets(max_range) + 1\n",
    "    \n",
    "    buckets = [[] for _ in range(num_buckets)]\n",
    "    \n",
    "    for _ in array:\n",
    "        buckets[build_buckets(_)] += [_]\n",
    "    print(\"Unsorted Buckets:\", buckets)\n",
    "    \n",
    "    for _ in range(num_buckets):\n",
    "        buckets[_] = Selection_sort(buckets[_])\n",
    "    print(\"Sorted Buckets: \", buckets)\n",
    "    \n",
    "    sorted_array = []\n",
    "    for _ in range(num_buckets):\n",
    "        sorted_array += buckets[_]\n",
    "    return sorted_array\n",
    "\n",
    "# Example\n",
    "array = [29, 25, 9, 49, 3, 37, 21, 43]\n",
    "Bucket_sort(array)"
   ]
  },
  {
   "cell_type": "code",
   "execution_count": null,
   "id": "8e84b279-cb2c-4d15-bf71-94e1b0968c6e",
   "metadata": {},
   "outputs": [],
   "source": []
  }
 ],
 "metadata": {
  "kernelspec": {
   "display_name": "Python 3 (ipykernel)",
   "language": "python",
   "name": "python3"
  },
  "language_info": {
   "codemirror_mode": {
    "name": "ipython",
    "version": 3
   },
   "file_extension": ".py",
   "mimetype": "text/x-python",
   "name": "python",
   "nbconvert_exporter": "python",
   "pygments_lexer": "ipython3",
   "version": "3.10.11"
  }
 },
 "nbformat": 4,
 "nbformat_minor": 5
}
