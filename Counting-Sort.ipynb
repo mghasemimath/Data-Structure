{
 "cells": [
  {
   "cell_type": "markdown",
   "id": "4f71f1df-47f7-4825-b61c-2b3ab125d241",
   "metadata": {},
   "source": [
    "# Counting Sort\n",
    "\n",
    "Counting Sort is a non-comparison-based sorting algorithm that works well for sorting integers within a specific range. It counts the occurrences of each element in the input array and uses this information to place the elements in the correct position in the sorted output.\n",
    "\n",
    "Key Characteristics of Counting Sort:\n",
    "\n",
    "1- Time Complexity: \n",
    "      O(n + k), where n is the number of elements in the input array and k is the range of the input (i.e., the difference between the maximum and minimum values). It is efficient when k is not significantly larger than n.\n",
    "\n",
    "2- Space Complexity: O(k), as it requires additional space for the count array.\n",
    "\n",
    "3- Stability: Counting Sort is stable, meaning it preserves the relative order of equal elements.\n",
    "\n",
    "4- Limitations: It works only for non-negative integers (or can be adapted for a specific range). It is not suitable for sorting floating-point numbers or strings.\n",
    "\n"
   ]
  },
  {
   "cell_type": "code",
   "execution_count": 6,
   "id": "673c3a19-f884-45ac-ac65-0679caa75080",
   "metadata": {},
   "outputs": [
    {
     "name": "stdout",
     "output_type": "stream",
     "text": [
      "\n",
      "Original List: [53, 22, 5, 99, 81, 81, 63, 73, 65, 55] \n",
      "\n",
      "Sorted List: [5, 22, 53, 55, 63, 65, 73, 81, 81, 99]\n"
     ]
    }
   ],
   "source": [
    "import random\n",
    "\n",
    "# Number of random numbers\n",
    "n = 10\n",
    "\n",
    "# The interval of random numbers\n",
    "start = 1\n",
    "end = 100\n",
    "\n",
    "# Creating the list of random numbers\n",
    "Random_list = [random.randint(start, end) for _ in range(n)]\n",
    "print(\"\\nOriginal List:\", Random_list, \"\\n\")\n",
    "\n",
    "# Counting sort algorithm\n",
    "def counting_sort(array):\n",
    "    # Find the maximum value in the array\n",
    "    m = max(array)\n",
    "    \n",
    "    # Initialize the count array with zeros\n",
    "    Count = [0] * (m + 1)\n",
    "    \n",
    "    # Count the occurrences of each element in the array\n",
    "    for x in array:\n",
    "        Count[x] += 1\n",
    "    \n",
    "    # Reconstruct the sorted array\n",
    "    sorted_array = []\n",
    "    for i in range(m + 1):\n",
    "        sorted_array.extend([i] * Count[i])\n",
    "        \n",
    "    return sorted_array\n",
    "\n",
    "sorted_list = counting_sort(Random_list)\n",
    "print(\"Sorted List:\", sorted_list)"
   ]
  },
  {
   "cell_type": "code",
   "execution_count": null,
   "id": "50988cca-b178-400c-994a-befcaf9ff9e8",
   "metadata": {},
   "outputs": [],
   "source": []
  }
 ],
 "metadata": {
  "kernelspec": {
   "display_name": "Python 3 (ipykernel)",
   "language": "python",
   "name": "python3"
  },
  "language_info": {
   "codemirror_mode": {
    "name": "ipython",
    "version": 3
   },
   "file_extension": ".py",
   "mimetype": "text/x-python",
   "name": "python",
   "nbconvert_exporter": "python",
   "pygments_lexer": "ipython3",
   "version": "3.10.11"
  }
 },
 "nbformat": 4,
 "nbformat_minor": 5
}
